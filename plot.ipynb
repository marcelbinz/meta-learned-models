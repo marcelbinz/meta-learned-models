{
 "cells": [
  {
   "cell_type": "code",
   "execution_count": 20,
   "id": "db9dfed1",
   "metadata": {},
   "outputs": [],
   "source": [
    "import matplotlib.pyplot as plt\n",
    "import seaborn as sns\n",
    "import torch\n",
    "from torch.distributions import Normal\n",
    "import math\n",
    "import scipy.stats as stats"
   ]
  },
  {
   "cell_type": "code",
   "execution_count": 21,
   "id": "ae878b6b",
   "metadata": {},
   "outputs": [],
   "source": [
    "# parameters of data-generating distribution\n",
    "prior_mean = 10; prior_std = 3; obs_std = 2; seq_length = 7\n",
    "\n",
    "def bayesian_inference(inputs, prior_mean, prior_var, noise_var):\n",
    "    \"\"\" Performs Bayesian inference for the given data-generating process.\n",
    "    Args:\n",
    "        inputs: PyTorch Tensor of shape (num_observations, batch_size, 1)\n",
    "        \n",
    "    Returns:\n",
    "        m: PyTorch Tensor of shape (batch_size, 1)\n",
    "        s: Float\n",
    "    \"\"\"\n",
    "    n = inputs.shape[0]\n",
    "    k = 1 / ((1 / prior_var) + (n / noise_var))\n",
    "    m = k * ((inputs.sum(0) / noise_var) + (prior_mean / prior_var))\n",
    "    s = math.sqrt(k + noise_var)\n",
    "    return m, s\n",
    "\n",
    "# sample data\n",
    "mu = Normal(prior_mean * torch.ones(1), prior_std).sample((1000,))\n",
    "x = Normal(mu, obs_std).sample((seq_length,))\n",
    "\n",
    "# run Bayesian inference\n",
    "m, s = bayesian_inference(x[:seq_length-1], prior_mean, prior_std ** 2, obs_std ** 2)\n",
    "bayes_optimal_loss = -Normal(m, s).log_prob(x[-1]).mean()"
   ]
  },
  {
   "cell_type": "code",
   "execution_count": 22,
   "id": "e6b4e0ab",
   "metadata": {},
   "outputs": [
    {
     "data": {
      "image/png": "[encoded data removed]",
      "text/plain": [
       "<Figure size 144x144 with 1 Axes>"
      ]
     },
     "metadata": {
      "needs_background": "light"
     },
     "output_type": "display_data"
    }
   ],
   "source": [
    "plt.rcParams[\"figure.figsize\"] = (2.,2)\n",
    "\n",
    "losses = torch.load('losses.pth')\n",
    "losses_mean = losses.numpy().mean(0)\n",
    "losses_std = losses.numpy().std(0) \n",
    "\n",
    "plt.plot(torch.arange(losses.shape[1])[::100] , losses_mean[::100], color='#007977', alpha=0.8)\n",
    "plt.fill_between(torch.arange(losses.shape[1])[::1], losses_mean + losses_std, losses_mean - losses_std, color='#007977', alpha=0.1)\n",
    "sns.despine()\n",
    "\n",
    "plt.axhline(y=bayes_optimal_loss, xmin=0, xmax=losses.shape[1], ls='--', c='red', alpha=0.8)\n",
    "plt.text(4750, 1.98, 'Bayes-optimal', c='red', alpha=0.8, size=8)\n",
    "\n",
    "plt.xlim(0, 10000)\n",
    "plt.ylim(1.75, 4)\n",
    "\n",
    "plt.xlabel('Iteration')\n",
    "plt.ylabel('Loss')\n",
    "\n",
    "plt.savefig('loss.pdf', bbox_inches='tight')"
   ]
  },
  {
   "cell_type": "code",
   "execution_count": 27,
   "id": "93090e84",
   "metadata": {},
   "outputs": [],
   "source": [
    "class MetaLearner(torch.nn.Module):\n",
    "    def __init__(self, num_hidden=256):\n",
    "        super(MetaLearner, self).__init__()\n",
    "        \n",
    "        self.rnn = torch.nn.LSTM(1, num_hidden)\n",
    "        self.linear_mu = torch.nn.Linear(num_hidden, 1)\n",
    "        self.linear_logstd = torch.nn.Linear(num_hidden, 1)\n",
    "\n",
    "    def forward(self, inputs):\n",
    "        \"\"\"\n",
    "        Args:\n",
    "            inputs (Tensor): PyTorch tensor of size (seq_length, batch_size, 1)\n",
    "        \n",
    "        Returns:\n",
    "            Normal object: Normal distribution object with dimensions (batch_size, 1)\n",
    "        \"\"\"\n",
    "        hidden, _ = self.rnn(inputs)\n",
    "        hidden = hidden[-1]\n",
    "        \n",
    "        mu = self.linear_mu(hidden)\n",
    "        std = torch.exp(self.linear_logstd(hidden))\n",
    "        \n",
    "        return Normal(mu, std)"
   ]
  },
  {
   "cell_type": "code",
   "execution_count": 36,
   "id": "af022a5b",
   "metadata": {},
   "outputs": [
    {
     "data": {
      "image/png": "[encoded data removed]",
      "text/plain": [
       "<Figure size 144x144 with 1 Axes>"
      ]
     },
     "metadata": {
      "needs_background": "light"
     },
     "output_type": "display_data"
    },
    {
     "data": {
      "image/png": "[encoded data removed]",
      "text/plain": [
       "<Figure size 144x144 with 1 Axes>"
      ]
     },
     "metadata": {
      "needs_background": "light"
     },
     "output_type": "display_data"
    }
   ],
   "source": [
    "def plot_gaussian(mu, sigma, color):\n",
    "    x = np.linspace(mu - 50*sigma, mu + 50*sigma, 1000)\n",
    "    plt.plot(x, stats.norm.pdf(x, mu, sigma), color=color)\n",
    "    plt.fill_between(x, stats.norm.pdf(x, mu, sigma), alpha=0.2, color=color)\n",
    "\n",
    "iters = [0, 10000]\n",
    "\n",
    "# generate test data\n",
    "mu_test = torch.Tensor([[7]])\n",
    "x_test = Normal(mu_test, obs_std).sample((seq_length,))\n",
    "\n",
    "for i in iters:\n",
    "    plt.figure(i)\n",
    "    \n",
    "    # meta-learned inference\n",
    "    network = torch.load('trained_models/iter_' + str(i) + '.pth')\n",
    "    predictive_posterior = network(x_test[:seq_length-1])\n",
    "    \n",
    "    # Bayesian inference\n",
    "    m, s = bayesian_inference(x_test[:seq_length-1], prior_mean, prior_std ** 2, obs_std ** 2)\n",
    "\n",
    "    with torch.no_grad():\n",
    "        plt.rcParams[\"figure.figsize\"] = (2.,2)\n",
    "        plt.title('t = ' + str(i), y=1.05, size=10)\n",
    "        plot_gaussian(predictive_posterior.loc[0, 0], predictive_posterior.scale[0, 0], color='#007977')\n",
    "        plot_gaussian(m[seq_id, 0], s, color='C1')\n",
    "        plt.xlabel('Insect Length')\n",
    "        if i == 0:\n",
    "            plt.ylabel('Probability Density')\n",
    "            plt.legend(['meta-learned', 'Bayesian'], frameon=False, fontsize=7.9, loc=1, bbox_to_anchor=(0.8,1.05))\n",
    "        else:\n",
    "            plt.yticks([])\n",
    "        plt.axvline(x=7, ymin=0, ymax=1, ls='--', c='grey', alpha=0.8)\n",
    "        plt.ylim([0, 0.7])\n",
    "        plt.xlim([-5, 15])\n",
    "        sns.despine()\n",
    "        plt.savefig(str(i) + '.pdf', bbox_inches='tight')\n",
    "        "
   ]
  },
  {
   "cell_type": "code",
   "execution_count": null,
   "id": "0866532f",
   "metadata": {},
   "outputs": [],
   "source": []
  }
 ],
 "metadata": {
  "kernelspec": {
   "display_name": "Python 3 (ipykernel)",
   "language": "python",
   "name": "python3"
  },
  "language_info": {
   "codemirror_mode": {
    "name": "ipython",
    "version": 3
   },
   "file_extension": ".py",
   "mimetype": "text/x-python",
   "name": "python",
   "nbconvert_exporter": "python",
   "pygments_lexer": "ipython3",
   "version": "3.8.12"
  }
 },
 "nbformat": 4,
 "nbformat_minor": 5
}
